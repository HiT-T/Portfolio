{
 "cells": [
  {
   "cell_type": "code",
   "execution_count": 21,
   "id": "f9fde7e1-32b4-4d34-9f10-6e67914a77f7",
   "metadata": {},
   "outputs": [],
   "source": [
    "import pandas as pd\n",
    "import numpy as np\n",
    "from matplotlib import pyplot as plt\n",
    "\n",
    "circles = pd.read_csv('circles.data', header=None)\n",
    "\n",
    "x = circles[0]\n",
    "y = circles[1]\n",
    "colors = [\"red\" if label == 1 else \"blue\" for label in circles[2]]"
   ]
  },
  {
   "cell_type": "code",
   "execution_count": 22,
   "id": "ab4e4246-44b8-4dfa-93b7-b3456a55cda1",
   "metadata": {},
   "outputs": [],
   "source": [
    "# Define the homogeneous polynomial kernel function.\n",
    "def poly_kernel(x_i, x_j, p):\n",
    "    return pow((1 + x_i.transpose().dot(x_j)), p)\n",
    "\n",
    "# Define the gaussian kernel function.\n",
    "def gauss_kernel(x_i, x_j, sig):\n",
    "    return np.exp((-1/(2*pow(sig,2)))*(x_i-x_j).transpose().dot(x_i-x_j))\n",
    "\n",
    "# Define the computation of kernel matrix with undetermined kernel functions.\n",
    "def kernel_mtx(X, kernel_func):\n",
    "    n = X.shape[0] # obtain sidelength of kernel matrix(n*n)\n",
    "    K = np.zeros((n,n)) # initialization\n",
    "    for i in range(n):\n",
    "        for j in range(n):\n",
    "            K[i,j] = kernel_func(X.iloc[i][0:2], X.iloc[j][0:2]) # obtaining feature vectors(2*1), which are in the form of first two columns in each row\n",
    "    return K"
   ]
  },
  {
   "cell_type": "code",
   "execution_count": 27,
   "id": "93a7b8dc-20b3-46e9-a3de-1dc9c9723bb3",
   "metadata": {},
   "outputs": [
    {
     "data": {
      "text/plain": [
       "<matplotlib.collections.PathCollection at 0x228aa49bfd0>"
      ]
     },
     "execution_count": 27,
     "metadata": {},
     "output_type": "execute_result"
    },
    {
     "data": {
      "image/png": "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",
      "text/plain": [
       "<Figure size 640x480 with 1 Axes>"
      ]
     },
     "metadata": {},
     "output_type": "display_data"
    }
   ],
   "source": [
    "# Use polynomial kernel to implement KPCA.\n",
    "\n",
    "K_p = kernel_mtx(circles, lambda x_i,x_j:poly_kernel(x_i,x_j,4)) # using poly_kernel to transform dataset to kernel matrix\n",
    "C = np.eye(K_p.shape[0])-np.ones(K_p.shape[0])/K_p.shape[0]\n",
    "Kc_p = C.dot(K_p).dot(C) # compute centrailized(0-mean standardized) Kernel matrix under polynomial kernel func\n",
    "# Acutally, up here we shall use C.transpose() to multiply K, but since C is symmetric, there is no need for this.\n",
    "\n",
    "# Now let k=2, compute the first two eigenvectors of the standardized kernel matrix with largest eigenvalues.\n",
    "w_p,v_p = np.linalg.eig(Kc_p) # w_p(vector) stores the eigenvalues, and v_p(matrix) stores the eigenvectors in the same index.\n",
    "order_p = w_p.argsort()[::-1] # Find the order of each eigenvalues and store them in order_p.\n",
    "v_p = v_p[:,order_p] # Use the order we've got to rearrange the eigenvectors. Now the vectors are in descending order of their eigenvalues.\n",
    "\n",
    "a1_p = v_p[:,0]\n",
    "a2_p = v_p[:,1]\n",
    "\n",
    "# Use the kernel matrix and eigenvectors to get transformed vectors which comprises the transformed matrix.\n",
    "z1_p = np.real((a1_p*Kc_p).sum(axis=1))\n",
    "z2_p = np.real((a2_p*Kc_p).sum(axis=1))\n",
    "\n",
    "# Time for plotting!\n",
    "plt.scatter(z1_p, np.zeros_like(z1_p),color=colors)"
   ]
  },
  {
   "cell_type": "code",
   "execution_count": 20,
   "id": "624a760e-733a-455c-aec3-277cafd9f561",
   "metadata": {},
   "source": [
    "# Use guassian kernel to do the same thing.\n",
    "\n",
    "K_g = kernel_mtx(circles, lambda x_i,x_j:gauss_kernel(x_i,x_j,1)) # using gauss_kernel to transform dataset to kernel matrix\n",
    "C = np.eye(K_g.shape[0])-np.ones(K_g.shape[0])/K_g.shape[0]\n",
    "Kc_g = C.dot(K_g).dot(C)\n",
    "\n",
    "# Also, compute the two eigenvectors with largest eigenvalues.\n",
    "w_g,v_g = np.linalg.eig(Kc_p)\n",
    "order_g = w_g.argsort()[::-1]\n",
    "v_g = v_g[:,order_g]\n",
    "\n",
    "a1_g = v_g[:,0]\n",
    "a2_g = v_g[:,1]\n",
    "\n",
    "# Compute the transformed vectors from the eigenvalues of kernel matrix and itself.\n",
    "z1_g = np.real((a1_g*Kc_g).sum(axis=1))\n",
    "z2_g = np.real((a2_g*Kc_g).sum(axis=1))\n",
    "\n",
    "plt.scatter(z1_g,z2_g,color=colors)"
   ]
  },
  {
   "cell_type": "code",
   "execution_count": null,
   "id": "3a86c2f4-4b8d-43e8-867e-7b82baad7f72",
   "metadata": {},
   "outputs": [],
   "source": []
  }
